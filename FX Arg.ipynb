{
 "cells": [
  {
   "cell_type": "markdown",
   "metadata": {},
   "source": [
    "### Library"
   ]
  },
  {
   "cell_type": "code",
   "execution_count": 1,
   "metadata": {
    "ExecuteTime": {
     "end_time": "2020-08-21T20:01:29.190125Z",
     "start_time": "2020-08-21T20:01:27.129387Z"
    }
   },
   "outputs": [],
   "source": [
    "import yfinance as yf\n",
    "import pandas as pd"
   ]
  },
  {
   "cell_type": "markdown",
   "metadata": {},
   "source": [
    "### Set Params"
   ]
  },
  {
   "cell_type": "code",
   "execution_count": 2,
   "metadata": {
    "ExecuteTime": {
     "end_time": "2020-08-21T20:01:29.209707Z",
     "start_time": "2020-08-21T20:01:29.195132Z"
    }
   },
   "outputs": [],
   "source": [
    "tickers = [\"ARS=X\",'GGAL.BA','GGAL']\n",
    "data = pd.DataFrame(columns=tickers)"
   ]
  },
  {
   "cell_type": "code",
   "execution_count": 3,
   "metadata": {
    "ExecuteTime": {
     "end_time": "2020-08-21T20:01:31.321971Z",
     "start_time": "2020-08-21T20:01:29.215877Z"
    }
   },
   "outputs": [
    {
     "name": "stdout",
     "output_type": "stream",
     "text": [
      "[*********************100%***********************]  1 of 1 completed\n",
      "[*********************100%***********************]  1 of 1 completed\n",
      "[*********************100%***********************]  1 of 1 completed\n",
      "                           Oficial  Turista         CCL\n",
      "Datetime                                               \n",
      "2020-08-21 18:00:00+01:00    73.57   95.641  135.828102\n",
      "2020-08-21 18:30:00+01:00    73.57   95.641  135.465123\n",
      "2020-08-21 19:00:00+01:00    73.57   95.641  134.689926\n",
      "2020-08-21 20:00:00+01:00    73.57   95.641  134.832014\n",
      "2020-08-21 21:00:00+01:00    73.57   95.641  134.832014\n",
      "\n",
      "\n",
      "\n",
      "                           % Brecha CCL\n",
      "Datetime                               \n",
      "2020-08-21 18:00:00+01:00     84.624308\n",
      "2020-08-21 18:30:00+01:00     84.130928\n",
      "2020-08-21 19:00:00+01:00     83.077242\n",
      "2020-08-21 20:00:00+01:00     83.270375\n",
      "2020-08-21 21:00:00+01:00     83.270375\n"
     ]
    }
   ],
   "source": [
    "for t in tickers:\n",
    "    data[t] = yf.download(t,period='2d',interval='30m')['Adj Close']\n",
    "\n",
    "data.interpolate(method='linear',inplace=True)\n",
    "\n",
    "imp_pais = 1.3\n",
    "usd = pd.DataFrame()\n",
    "usd['Oficial'] = data[\"ARS=X\"]\n",
    "usd['Turista'] = data[\"ARS=X\"]*imp_pais\n",
    "usd['CCL'] = data['GGAL.BA']*10/data['GGAL']\n",
    "\n",
    "gap = pd.DataFrame()\n",
    "gap['% Brecha CCL'] = (usd['CCL']/usd['Oficial']-1)*100\n",
    "\n",
    "\n",
    "print(usd.tail())\n",
    "print('\\n\\n')\n",
    "print(gap.tail())"
   ]
  },
  {
   "cell_type": "code",
   "execution_count": null,
   "metadata": {},
   "outputs": [],
   "source": []
  }
 ],
 "metadata": {
  "kernelspec": {
   "display_name": "Python 3",
   "language": "python",
   "name": "python3"
  },
  "language_info": {
   "codemirror_mode": {
    "name": "ipython",
    "version": 3
   },
   "file_extension": ".py",
   "mimetype": "text/x-python",
   "name": "python",
   "nbconvert_exporter": "python",
   "pygments_lexer": "ipython3",
   "version": "3.7.6"
  },
  "varInspector": {
   "cols": {
    "lenName": 16,
    "lenType": 16,
    "lenVar": 40
   },
   "kernels_config": {
    "python": {
     "delete_cmd_postfix": "",
     "delete_cmd_prefix": "del ",
     "library": "var_list.py",
     "varRefreshCmd": "print(var_dic_list())"
    },
    "r": {
     "delete_cmd_postfix": ") ",
     "delete_cmd_prefix": "rm(",
     "library": "var_list.r",
     "varRefreshCmd": "cat(var_dic_list()) "
    }
   },
   "types_to_exclude": [
    "module",
    "function",
    "builtin_function_or_method",
    "instance",
    "_Feature"
   ],
   "window_display": false
  }
 },
 "nbformat": 4,
 "nbformat_minor": 4
}
